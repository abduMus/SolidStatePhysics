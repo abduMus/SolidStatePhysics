{
 "cells": [
  {
   "cell_type": "code",
   "execution_count": 5,
   "id": "325bccac",
   "metadata": {},
   "outputs": [],
   "source": [
    "# problem 1.1 (Ibach & Lüth)"
   ]
  },
  {
   "cell_type": "code",
   "execution_count": 1,
   "id": "655b2a47",
   "metadata": {},
   "outputs": [],
   "source": [
    "import numpy as np\n",
    "from tqdm import tqdm"
   ]
  },
  {
   "cell_type": "markdown",
   "id": "7813b8ff",
   "metadata": {},
   "source": [
    "## NaCl in Cubic Geometry"
   ]
  },
  {
   "cell_type": "code",
   "execution_count": 2,
   "id": "cf21b667",
   "metadata": {},
   "outputs": [],
   "source": [
    "def distance(x, y, z, a):\n",
    "    return np.sqrt((a - x)**2 + (a - y)**2 + (a - z)**2)"
   ]
  },
  {
   "cell_type": "code",
   "execution_count": 4,
   "id": "21b27382",
   "metadata": {},
   "outputs": [
    {
     "name": "stderr",
     "output_type": "stream",
     "text": [
      "100%|██████████| 401/401 [02:13<00:00,  3.01it/s]"
     ]
    },
    {
     "name": "stdout",
     "output_type": "stream",
     "text": [
      "Madelung constant for m = 201 : 1.7446850421707383\n"
     ]
    },
    {
     "name": "stderr",
     "output_type": "stream",
     "text": [
      "\n"
     ]
    }
   ],
   "source": [
    "# grid size\n",
    "ms = [97, 98, 99] # when m is odd, the reference ion is chlorine (madelung > 0), otherwise sodium (madelung < 0)\n",
    "\n",
    "for m in ms:\n",
    "    # construct a 3x3 cubic grid of size 2*m, where m = 97, 98, 99\n",
    "    lattice2d = np.zeros((2*m-1, 2*m-1))\n",
    "    lattice3d = np.zeros((2*m-1, 2*m-1, 2*m-1))            \n",
    "    for z in range(2*m-1):\n",
    "        for x in range(2*m-1):\n",
    "            lattice2d[x, z] = -1 if (x+z)%2 == 0 else 1\n",
    "    for y in range(2*m-1):\n",
    "        lattice3d[y] = lattice2d if y%2==0 else lattice2d*(-1)\n",
    "        \n",
    "    # iterate over the entire grid, and calculate the distances from the central ion\n",
    "    madelung = 0\n",
    "    for x in tqdm(range(2*m-1)):\n",
    "        for y in range(2*m-1):\n",
    "            for z in range(2*m-1):\n",
    "                if x==m-1 and y == m-1 and z == m-1:\n",
    "                    continue\n",
    "                else:\n",
    "                    madelung += lattice3d[x, y, z] / distance(x, y, z, m-1)\n",
    "    print(\"Madelung constant for m = \" + str(m) + \" : \" + str(madelung))"
   ]
  },
  {
   "cell_type": "code",
   "execution_count": null,
   "id": "d388ef07",
   "metadata": {},
   "outputs": [],
   "source": []
  }
 ],
 "metadata": {
  "kernelspec": {
   "display_name": "Python 3",
   "language": "python",
   "name": "python3"
  },
  "language_info": {
   "codemirror_mode": {
    "name": "ipython",
    "version": 3
   },
   "file_extension": ".py",
   "mimetype": "text/x-python",
   "name": "python",
   "nbconvert_exporter": "python",
   "pygments_lexer": "ipython3",
   "version": "3.9.4"
  }
 },
 "nbformat": 4,
 "nbformat_minor": 5
}
